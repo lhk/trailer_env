{
 "cells": [
  {
   "cell_type": "markdown",
   "metadata": {},
   "source": [
    "## Single track model\n",
    "\n",
    "A common model to simulate vehicle dynamics is the single track model.\n",
    "In this notebook, I'm using sympy to set up a simulation of this model.\n",
    "The derivation can be found here (https://de.wikipedia.org/wiki/Einspurmodell)\n",
    "\n",
    "TODO: apparently this page is only available in german, but surely there is an english version of this somewhere."
   ]
  },
  {
   "cell_type": "code",
   "execution_count": 1,
   "metadata": {},
   "outputs": [],
   "source": [
    "import numpy as np\n",
    "from sympy import *"
   ]
  },
  {
   "cell_type": "code",
   "execution_count": 2,
   "metadata": {},
   "outputs": [
    {
     "data": {
      "text/html": [
       "<img src=\"https://upload.wikimedia.org/wikipedia/commons/2/24/EinspurKinematik.png\"/>"
      ],
      "text/plain": [
       "<IPython.core.display.Image object>"
      ]
     },
     "execution_count": 2,
     "metadata": {},
     "output_type": "execute_result"
    }
   ],
   "source": [
    "from IPython.display import Image\n",
    "Image(url=\"https://upload.wikimedia.org/wikipedia/commons/2/24/EinspurKinematik.png\")"
   ]
  },
  {
   "cell_type": "code",
   "execution_count": 3,
   "metadata": {},
   "outputs": [],
   "source": [
    "# parameters of the model\n",
    "m, theta, l_v, l_h, c_v, c_h, i_S = symbols(\"m, theta, l_v, l_h, c_v, c_h, i_S\")\n",
    "\n",
    "# some sensible reference values, taken from the wikipedia article\n",
    "parameters = {\n",
    "m : 1550,    # kg\n",
    "theta : 2800, # kg m^2\n",
    "l_v : 1.344,  # m\n",
    "l_h : 1.456,  # m\n",
    "c_v : 75000,  # N / rad\n",
    "c_h : 150000, # N / rad\n",
    "i_S : 16\n",
    "}"
   ]
  },
  {
   "cell_type": "code",
   "execution_count": 4,
   "metadata": {},
   "outputs": [],
   "source": [
    "# in the single track model, v is assumed to be constant\n",
    "# here, I'm keeping v symbolic, so that it's possible to plug in different values of v\n",
    "v = symbols(\"v\")\n",
    "\n",
    "# state of the model is  x = [beta, psi_dot]\n",
    "# input of the model is u = [delta / i_S]\n",
    "beta, psi_dot = symbols(\"beta psi_dot\")\n",
    "delta = symbols(\"delta\")"
   ]
  },
  {
   "cell_type": "code",
   "execution_count": 5,
   "metadata": {},
   "outputs": [],
   "source": [
    "# x_dot = A * x + B * u\n",
    "# here are the corresponding matrices A and B\n",
    "A = Matrix([[-(c_v + c_h)/(m*v), (m*v**2 - (c_h*l_h - c_v*l_v))/(m*v**2)],\n",
    "           [- (c_h*l_h - c_v*l_v)/theta, -(c_h*l_h**2 + c_v*l_v**2)/(theta*v)]])\n",
    "\n",
    "B = Matrix([[-c_v / (m*v)], [c_v*l_v/theta]])"
   ]
  },
  {
   "cell_type": "code",
   "execution_count": 6,
   "metadata": {},
   "outputs": [],
   "source": [
    "# state space representation: dx = A*x + B*u\n",
    "def dstate(state, u):\n",
    "    return A @ state + B@u"
   ]
  },
  {
   "cell_type": "code",
   "execution_count": 7,
   "metadata": {},
   "outputs": [],
   "source": [
    "# a runge kutta implementation\n",
    "T = symbols(\"T\")\n",
    "\n",
    "state = Matrix([beta, psi_dot])\n",
    "u = Matrix([delta / i_S])\n",
    "\n",
    "# runge kutta\n",
    "k1 = dstate(state, u)\n",
    "k2 = dstate(state + T/2*k1, u)\n",
    "k3 = dstate(state + T/2*k2, u)\n",
    "k4 = dstate(state + T*k3, u)\n",
    "\n",
    "rk = state + T/6 * (k1 + 2*k2 + 2*k3 + k4)"
   ]
  },
  {
   "cell_type": "code",
   "execution_count": 8,
   "metadata": {},
   "outputs": [
    {
     "data": {
      "text/plain": [
       "Matrix([\n",
       "[1.89157784341162],\n",
       "[1.78230636680725]])"
      ]
     },
     "execution_count": 8,
     "metadata": {},
     "output_type": "execute_result"
    }
   ],
   "source": [
    "# a sample evaluation of the runge kutta setup\n",
    "\n",
    "# here we define values to be used for states and inputs\n",
    "# they will be substituted into the symbolic expression\n",
    "beta_val = 0\n",
    "psi_dot_val = 0\n",
    "delta_val = 0.05\n",
    "v_val = 10\n",
    "dT = 1\n",
    "\n",
    "substitutions = {\n",
    "    beta: beta_val, \n",
    "    psi_dot : psi_dot_val, \n",
    "    delta: delta_val, \n",
    "    v:v_val,\n",
    "    T: dT\n",
    "}\n",
    "\n",
    "# we also need to substitute the parameters from above\n",
    "rk.subs({**substitutions, **parameters}).evalf()"
   ]
  },
  {
   "cell_type": "code",
   "execution_count": null,
   "metadata": {},
   "outputs": [],
   "source": []
  }
 ],
 "metadata": {
  "kernelspec": {
   "display_name": "Python 3",
   "language": "python",
   "name": "python3"
  },
  "language_info": {
   "codemirror_mode": {
    "name": "ipython",
    "version": 3
   },
   "file_extension": ".py",
   "mimetype": "text/x-python",
   "name": "python",
   "nbconvert_exporter": "python",
   "pygments_lexer": "ipython3",
   "version": "3.6.5"
  }
 },
 "nbformat": 4,
 "nbformat_minor": 2
}
