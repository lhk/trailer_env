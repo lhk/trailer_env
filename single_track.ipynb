{
 "cells": [
  {
   "cell_type": "code",
   "execution_count": 19,
   "metadata": {},
   "outputs": [],
   "source": [
    "import numpy as np\n",
    "from sympy import *"
   ]
  },
  {
   "cell_type": "code",
   "execution_count": 20,
   "metadata": {},
   "outputs": [],
   "source": [
    "m = 1550     # kg\n",
    "theta = 2800 # kg m^2\n",
    "l_v = 1.344  # m\n",
    "l_h = 1.456  # m\n",
    "c_v = 75000  # N / rad\n",
    "c_h = 150000 # N / rad\n",
    "i_S = 16"
   ]
  },
  {
   "cell_type": "code",
   "execution_count": 21,
   "metadata": {},
   "outputs": [],
   "source": [
    "# derived parameters\n",
    "l = l_v + l_h"
   ]
  },
  {
   "cell_type": "code",
   "execution_count": 22,
   "metadata": {},
   "outputs": [],
   "source": [
    "from IPython.display import Image"
   ]
  },
  {
   "cell_type": "code",
   "execution_count": 23,
   "metadata": {},
   "outputs": [
    {
     "data": {
      "text/html": [
       "<img src=\"https://upload.wikimedia.org/wikipedia/commons/2/24/EinspurKinematik.png\"/>"
      ],
      "text/plain": [
       "<IPython.core.display.Image object>"
      ]
     },
     "execution_count": 23,
     "metadata": {},
     "output_type": "execute_result"
    }
   ],
   "source": [
    "Image(url=\"https://upload.wikimedia.org/wikipedia/commons/2/24/EinspurKinematik.png\")"
   ]
  },
  {
   "cell_type": "code",
   "execution_count": 69,
   "metadata": {},
   "outputs": [],
   "source": [
    "# in the single track model, v is assumed to be constant\n",
    "# I want to be able to simulate different values of v\n",
    "# so the velocity is kept symbolic\n",
    "v = symbols(\"v\")\n"
   ]
  },
  {
   "cell_type": "code",
   "execution_count": 74,
   "metadata": {},
   "outputs": [],
   "source": [
    "# dx = A*x + B*u\n",
    "# where x=[beta, psi_dot]\n",
    "#       u=[delta / i_s]\n",
    "\n",
    "beta, psi_dot = symbols(\"beta psi_dot\")\n",
    "delta = symbols(\"delta\")\n",
    "\n",
    "A = Matrix([[-(c_v + c_h)/m*v, (m*v**2 - (c_h*l_h - c_v*l_v))/(m*v**2)],\n",
    "           [- (c_h*l_h - c_v*l_v)/theta, -(c_h*l_h**2 + c_v*l_v**2)/(theta*v)]])\n",
    "\n",
    "B = Matrix([[-c_v / (m*v)], [c_v*l_v/theta]])"
   ]
  },
  {
   "cell_type": "code",
   "execution_count": 87,
   "metadata": {},
   "outputs": [],
   "source": [
    "def dstate(state, u):\n",
    "    return A @ state + B@u"
   ]
  },
  {
   "cell_type": "code",
   "execution_count": 103,
   "metadata": {},
   "outputs": [],
   "source": [
    "T = 0.01"
   ]
  },
  {
   "cell_type": "code",
   "execution_count": 104,
   "metadata": {},
   "outputs": [],
   "source": [
    "state = Matrix([beta, psi_dot])\n",
    "u = Matrix([delta / i_S])\n",
    "\n",
    "# runge kutta\n",
    "k1 = dstate(state, u)\n",
    "k2 = dstate(state + T/2*k1, u)\n",
    "k3 = dstate(state + T/2*k2, u)\n",
    "k4 = dstate(state + T*k3, u)\n",
    "\n",
    "rk = state + T/6 * (k1 + 2*k2 + 2*k3 + k4)"
   ]
  },
  {
   "cell_type": "code",
   "execution_count": 106,
   "metadata": {},
   "outputs": [
    {
     "data": {
      "text/plain": [
       "Matrix([\n",
       "[ 0.0149262386695396],\n",
       "[0.00147941011090546]])"
      ]
     },
     "execution_count": 106,
     "metadata": {},
     "output_type": "execute_result"
    }
   ],
   "source": [
    "beta_val = 0\n",
    "psi_dot_val = 0\n",
    "delta_val = 0.05\n",
    "v_val = 10\n",
    "\n",
    "substitutions = {beta: beta_val, psi_dot : psi_dot_val, delta: delta_val, v:v_val}\n",
    "\n",
    "rk.subs(substitutions).evalf()"
   ]
  },
  {
   "cell_type": "code",
   "execution_count": 107,
   "metadata": {},
   "outputs": [
    {
     "data": {
      "text/plain": [
       "Matrix([\n",
       "[-0.241935483870968*beta*v + beta - 0.030241935483871*delta/v + 1.0752688172043e-6*psi_dot*(1550*v**2 - 117600.0)/v**2 - 0.241935483870968*v*(beta - 0.030241935483871*delta/v - 1.45161290322581*v*(beta - 0.0151209677419355*delta/v - 0.725806451612903*v*(-0.725806451612903*beta*v + beta - 0.0151209677419355*delta/v + 3.2258064516129e-6*psi_dot*(1550*v**2 - 117600.0)/v**2) + 3.2258064516129e-6*(1550*v**2 - 117600.0)*(-0.21*beta + 0.01125*delta + psi_dot - 0.80976*psi_dot/v)/v**2) + 6.45161290322581e-6*(1550*v**2 - 117600.0)*(0.15241935483871*beta*v - 0.21*beta + 0.01125*delta + 0.00317540322580645*delta/v + psi_dot - 6.7741935483871e-7*psi_dot*(1550*v**2 - 117600.0)/v**2 - 0.80976*(-0.21*beta + 0.01125*delta + psi_dot - 0.80976*psi_dot/v)/v)/v**2) - 0.483870967741935*v*(beta - 0.0151209677419355*delta/v - 0.725806451612903*v*(-0.725806451612903*beta*v + beta - 0.0151209677419355*delta/v + 3.2258064516129e-6*psi_dot*(1550*v**2 - 117600.0)/v**2) + 3.2258064516129e-6*(1550*v**2 - 117600.0)*(-0.21*beta + 0.01125*delta + psi_dot - 0.80976*psi_dot/v)/v**2) - 0.483870967741935*v*(-0.725806451612903*beta*v + beta - 0.0151209677419355*delta/v + 3.2258064516129e-6*psi_dot*(1550*v**2 - 117600.0)/v**2) + 2.1505376344086e-6*(1550*v**2 - 117600.0)*(-0.21*beta + 0.01125*delta + psi_dot - 0.80976*psi_dot/v)/v**2 + 1.0752688172043e-6*(1550*v**2 - 117600.0)*(-0.42*beta + 0.0225*delta + 0.0063508064516129*delta/v + psi_dot + 0.304838709677419*v*(-0.725806451612903*beta*v + beta - 0.0151209677419355*delta/v + 3.2258064516129e-6*psi_dot*(1550*v**2 - 117600.0)/v**2) - 1.61952*(0.15241935483871*beta*v - 0.21*beta + 0.01125*delta + 0.00317540322580645*delta/v + psi_dot - 6.7741935483871e-7*psi_dot*(1550*v**2 - 117600.0)/v**2 - 0.80976*(-0.21*beta + 0.01125*delta + psi_dot - 0.80976*psi_dot/v)/v)/v - 1.35483870967742e-6*(1550*v**2 - 117600.0)*(-0.21*beta + 0.01125*delta + psi_dot - 0.80976*psi_dot/v)/v**2)/v**2 + 2.1505376344086e-6*(1550*v**2 - 117600.0)*(0.15241935483871*beta*v - 0.21*beta + 0.01125*delta + 0.00317540322580645*delta/v + psi_dot - 6.7741935483871e-7*psi_dot*(1550*v**2 - 117600.0)/v**2 - 0.80976*(-0.21*beta + 0.01125*delta + psi_dot - 0.80976*psi_dot/v)/v)/v**2],\n",
       "[                                                                                                                                                                                                                                                                                                                            0.101612903225806*beta*v - 0.42*beta + 0.0225*delta + 0.0063508064516129*delta/v + psi_dot - 0.26992*psi_dot/v - 4.51612903225806e-7*psi_dot*(1550*v**2 - 117600.0)/v**2 + 0.101612903225806*v*(beta - 0.0151209677419355*delta/v - 0.725806451612903*v*(-0.725806451612903*beta*v + beta - 0.0151209677419355*delta/v + 3.2258064516129e-6*psi_dot*(1550*v**2 - 117600.0)/v**2) + 3.2258064516129e-6*(1550*v**2 - 117600.0)*(-0.21*beta + 0.01125*delta + psi_dot - 0.80976*psi_dot/v)/v**2) + 0.101612903225806*v*(-0.725806451612903*beta*v + beta - 0.0151209677419355*delta/v + 3.2258064516129e-6*psi_dot*(1550*v**2 - 117600.0)/v**2) - 0.53984*(-0.21*beta + 0.01125*delta + psi_dot - 0.80976*psi_dot/v)/v - 0.26992*(-0.42*beta + 0.0225*delta + 0.0063508064516129*delta/v + psi_dot + 0.304838709677419*v*(-0.725806451612903*beta*v + beta - 0.0151209677419355*delta/v + 3.2258064516129e-6*psi_dot*(1550*v**2 - 117600.0)/v**2) - 1.61952*(0.15241935483871*beta*v - 0.21*beta + 0.01125*delta + 0.00317540322580645*delta/v + psi_dot - 6.7741935483871e-7*psi_dot*(1550*v**2 - 117600.0)/v**2 - 0.80976*(-0.21*beta + 0.01125*delta + psi_dot - 0.80976*psi_dot/v)/v)/v - 1.35483870967742e-6*(1550*v**2 - 117600.0)*(-0.21*beta + 0.01125*delta + psi_dot - 0.80976*psi_dot/v)/v**2)/v - 0.53984*(0.15241935483871*beta*v - 0.21*beta + 0.01125*delta + 0.00317540322580645*delta/v + psi_dot - 6.7741935483871e-7*psi_dot*(1550*v**2 - 117600.0)/v**2 - 0.80976*(-0.21*beta + 0.01125*delta + psi_dot - 0.80976*psi_dot/v)/v)/v - 4.51612903225806e-7*(1550*v**2 - 117600.0)*(-0.21*beta + 0.01125*delta + psi_dot - 0.80976*psi_dot/v)/v**2 - 4.51612903225806e-7*(1550*v**2 - 117600.0)*(0.15241935483871*beta*v - 0.21*beta + 0.01125*delta + 0.00317540322580645*delta/v + psi_dot - 6.7741935483871e-7*psi_dot*(1550*v**2 - 117600.0)/v**2 - 0.80976*(-0.21*beta + 0.01125*delta + psi_dot - 0.80976*psi_dot/v)/v)/v**2]])"
      ]
     },
     "execution_count": 107,
     "metadata": {},
     "output_type": "execute_result"
    }
   ],
   "source": [
    "rk"
   ]
  },
  {
   "cell_type": "code",
   "execution_count": null,
   "metadata": {},
   "outputs": [],
   "source": []
  }
 ],
 "metadata": {
  "kernelspec": {
   "display_name": "Python 3",
   "language": "python",
   "name": "python3"
  },
  "language_info": {
   "codemirror_mode": {
    "name": "ipython",
    "version": 3
   },
   "file_extension": ".py",
   "mimetype": "text/x-python",
   "name": "python",
   "nbconvert_exporter": "python",
   "pygments_lexer": "ipython3",
   "version": "3.6.5"
  }
 },
 "nbformat": 4,
 "nbformat_minor": 2
}
