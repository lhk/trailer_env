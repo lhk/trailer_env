{
 "cells": [
  {
   "cell_type": "markdown",
   "metadata": {},
   "source": [
    "## Single track model\n",
    "\n",
    "Searching for a single track model, I found this wikipedia page (which appears to be only in german !?) (https://de.wikipedia.org/wiki/Einspurmodell)\n",
    "\n",
    "This model assumes a fixed speed v. The vehicle rotates with speed psi_dot. The velocity v is not aligned to the vehicle but has an angle beta towards the main axis.\n",
    "See below for an image.\n",
    "\n",
    "First, I've set up a simulation of the dynamics of this system in sympy.\n",
    "Then, as a second step, I'm deriving a very simple single track model from scratch. Please note: This second model is probably not the canonical \"single track model\". But I think it would be more comfortable to use.\n",
    "So my goal is to be able to compare the behaviours.\n",
    "\n",
    "TODO: so far I'm using a runge-kutta method to step through time. That is not a good idea. Switch to this: https://en.wikipedia.org/wiki/Discretization#Discretization_of_linear_state_space_models\n"
   ]
  },
  {
   "cell_type": "markdown",
   "metadata": {},
   "source": [
    "### Part 1, proper single track model"
   ]
  },
  {
   "cell_type": "code",
   "execution_count": 1,
   "metadata": {},
   "outputs": [],
   "source": [
    "import numpy as np\n",
    "from sympy import *"
   ]
  },
  {
   "cell_type": "code",
   "execution_count": 2,
   "metadata": {},
   "outputs": [
    {
     "data": {
      "text/html": [
       "<img src=\"https://upload.wikimedia.org/wikipedia/commons/2/24/EinspurKinematik.png\"/>"
      ],
      "text/plain": [
       "<IPython.core.display.Image object>"
      ]
     },
     "execution_count": 2,
     "metadata": {},
     "output_type": "execute_result"
    }
   ],
   "source": [
    "from IPython.display import Image\n",
    "Image(url=\"https://upload.wikimedia.org/wikipedia/commons/2/24/EinspurKinematik.png\")"
   ]
  },
  {
   "cell_type": "code",
   "execution_count": 3,
   "metadata": {},
   "outputs": [],
   "source": [
    "# parameters of the model\n",
    "m, theta, l_v, l_h, c_v, c_h, i_S = symbols(\"m, theta, l_v, l_h, c_v, c_h, i_S\")\n",
    "\n",
    "# some sensible reference values, taken from the wikipedia article\n",
    "parameters = {\n",
    "m : 1550,    # kg\n",
    "theta : 2800, # kg m^2\n",
    "l_v : 1.344,  # m\n",
    "l_h : 1.456,  # m\n",
    "c_v : 75000,  # N / rad\n",
    "c_h : 150000, # N / rad\n",
    "i_S : 16\n",
    "}"
   ]
  },
  {
   "cell_type": "code",
   "execution_count": 4,
   "metadata": {},
   "outputs": [],
   "source": [
    "# in the single track model, v is assumed to be constant\n",
    "# here, I'm keeping v symbolic, so that it's possible to plug in different values of v\n",
    "v = symbols(\"v\")\n",
    "\n",
    "# state of the model is  x = [beta, psi_dot]\n",
    "# input of the model is u = [delta / i_S]\n",
    "beta, psi_dot = symbols(\"beta psi_dot\")\n",
    "delta = symbols(\"delta\")"
   ]
  },
  {
   "cell_type": "code",
   "execution_count": 5,
   "metadata": {},
   "outputs": [],
   "source": [
    "# x_dot = A * x + B * u\n",
    "# here are the corresponding matrices A and B\n",
    "A = Matrix([[-(c_v + c_h)/(m*v), (m*v**2 - (c_h*l_h - c_v*l_v))/(m*v**2)],\n",
    "           [- (c_h*l_h - c_v*l_v)/theta, -(c_h*l_h**2 + c_v*l_v**2)/(theta*v)]])\n",
    "\n",
    "B = Matrix([[-c_v / (m*v)], [c_v*l_v/theta]])"
   ]
  },
  {
   "cell_type": "code",
   "execution_count": 6,
   "metadata": {},
   "outputs": [],
   "source": [
    "# state space representation: dx = A*x + B*u\n",
    "def dstate(state, u):\n",
    "    return A @ state + B@u"
   ]
  },
  {
   "cell_type": "code",
   "execution_count": 7,
   "metadata": {},
   "outputs": [],
   "source": [
    "# a runge kutta implementation\n",
    "T = symbols(\"T\")\n",
    "\n",
    "state = Matrix([beta, psi_dot])\n",
    "u = Matrix([delta / i_S])\n",
    "\n",
    "# runge kutta\n",
    "k1 = dstate(state, u)\n",
    "k2 = dstate(state + T/2*k1, u)\n",
    "k3 = dstate(state + T/2*k2, u)\n",
    "k4 = dstate(state + T*k3, u)\n",
    "\n",
    "rk = state + T/6 * (k1 + 2*k2 + 2*k3 + k4)"
   ]
  },
  {
   "cell_type": "code",
   "execution_count": 8,
   "metadata": {},
   "outputs": [
    {
     "data": {
      "text/plain": [
       "Matrix([\n",
       "[1.89157784341162],\n",
       "[1.78230636680725]])"
      ]
     },
     "execution_count": 8,
     "metadata": {},
     "output_type": "execute_result"
    }
   ],
   "source": [
    "# a sample evaluation of the runge kutta setup\n",
    "\n",
    "# here we define values to be used for states and inputs\n",
    "# they will be substituted into the symbolic expression\n",
    "beta_val = 0\n",
    "psi_dot_val = 0\n",
    "delta_val = 0.05\n",
    "v_val = 10\n",
    "dT = 1\n",
    "\n",
    "substitutions = {\n",
    "    beta: beta_val, \n",
    "    psi_dot : psi_dot_val, \n",
    "    delta: delta_val, \n",
    "    v:v_val,\n",
    "    T: dT\n",
    "}\n",
    "\n",
    "# we also need to substitute the parameters from above\n",
    "rk.subs({**substitutions, **parameters}).evalf()"
   ]
  },
  {
   "cell_type": "markdown",
   "metadata": {},
   "source": [
    "### part 2, simplified version\n",
    "\n",
    "Here, I'm including x and y positions, too.\n",
    "\n",
    "This allows me to use the dynamics directly, to simulate movement"
   ]
  },
  {
   "cell_type": "code",
   "execution_count": 9,
   "metadata": {},
   "outputs": [],
   "source": [
    "# time\n",
    "t = symbols(\"t\")\n",
    "\n",
    "# parameters are mass and length\n",
    "# also a parameter is the steering delay\n",
    "m, l, T_delta = symbols(\"m l T_delta\")\n",
    "params = [m, l, T_delta]\n",
    "\n",
    "# to model the state, I'm looking at properties at the back wheel\n",
    "# speed, x and y positions, as well as the angle beta\n",
    "# the steering angle delta is also part of the state\n",
    "v, x, y, beta, delta= symbols(\"v x y beta delta\")\n",
    "state = [x, y, beta, v, delta]\n",
    "\n",
    "# input is target steering angle and force for acceleration\n",
    "delta_target, F = symbols(\"delta_target F\")\n",
    "u = [delta_target, F]"
   ]
  },
  {
   "cell_type": "code",
   "execution_count": 10,
   "metadata": {},
   "outputs": [],
   "source": [
    "# angular velocity can be derived from radius of curvature and velocity\n",
    "# omega * R = v, tan(delta) = l/R\n",
    "# => 1/R = tan(delta) / l\n",
    "# => omega = v / R\n",
    "omega = tan(delta) / l * v"
   ]
  },
  {
   "cell_type": "code",
   "execution_count": 11,
   "metadata": {},
   "outputs": [],
   "source": [
    "# speed at the center of mass, in the middle of the vehicle, can be derived from speed at back wheel\n",
    "# and angular velocity\n",
    "v_mass = sqrt(v**2 + (omega * l/2)**2)"
   ]
  },
  {
   "cell_type": "code",
   "execution_count": 12,
   "metadata": {},
   "outputs": [],
   "source": [
    "# the velocity of the center of mass can be derived by time\n",
    "# d_v_mass / d_t = d_v_mass / d_v  * d_v / d_t = a\n",
    "# -> d_v / d_t = a / d_v_mass / d_v\n",
    "# d_v / d_t is just what we are looking for\n",
    "a = F/m\n",
    "d_v = a / diff(v_mass, v)"
   ]
  },
  {
   "cell_type": "code",
   "execution_count": 13,
   "metadata": {},
   "outputs": [
    {
     "data": {
      "text/plain": [
       "(-delta + delta_target)/T_delta"
      ]
     },
     "execution_count": 13,
     "metadata": {},
     "output_type": "execute_result"
    }
   ],
   "source": [
    "# for the dynamics of the steering angle,\n",
    "# we model a simple PT1 behaviour\n",
    "d_delta = (delta_target - delta) / T_delta\n",
    "d_delta"
   ]
  },
  {
   "cell_type": "code",
   "execution_count": 14,
   "metadata": {},
   "outputs": [],
   "source": [
    "# the derivatives of beta, x, and y are simple\n",
    "d_beta = omega\n",
    "d_x = sin(beta) * v\n",
    "d_y = cos(beta) * v"
   ]
  },
  {
   "cell_type": "code",
   "execution_count": 15,
   "metadata": {},
   "outputs": [],
   "source": [
    "# linearization in state space:\n",
    "d_state = Matrix([d_x, d_y, d_beta, d_v, d_delta])\n",
    "\n",
    "A = d_state.jacobian(state)\n",
    "B = d_state.jacobian(u)"
   ]
  },
  {
   "cell_type": "code",
   "execution_count": 16,
   "metadata": {},
   "outputs": [],
   "source": [
    "import scipy.linalg\n",
    "# see : https://en.wikipedia.org/wiki/Discretization#Discretization_of_linear_state_space_models\n",
    "def discretize_AB(mat_a, mat_b, T):\n",
    "    num_states = mat_a.shape[1]\n",
    "    num_controls = mat_b.shape[1]\n",
    "    \n",
    "    blocked= np.zeros(2*(num_states + num_controls, ))\n",
    "    blocked[:num_states, :num_states] = np.array(mat_a).astype(np.float64)\n",
    "    blocked[:num_states, num_states:] = np.array(mat_b).astype(np.float64)\n",
    "    \n",
    "    exp_blocked = scipy.linalg.expm(blocked*T)\n",
    "\n",
    "    mat_a_d = exp_blocked[:num_states, :num_states]\n",
    "    mat_b_d = exp_blocked[:num_states, num_states:]\n",
    "    \n",
    "    return mat_a_d, mat_b_d"
   ]
  },
  {
   "cell_type": "code",
   "execution_count": 17,
   "metadata": {},
   "outputs": [],
   "source": [
    "param_values = [100, 1, 0.1]\n",
    "param_subs = list(zip(params, param_values))\n",
    "\n",
    "current_state = [0, 0, 0, 5, 0]\n",
    "state_subs = list(zip(state, current_state))\n",
    "\n",
    "current_inputs = [1, 10]\n",
    "input_subs = list(zip(u, current_inputs))\n",
    "\n",
    "all_subs = param_subs + state_subs + input_subs\n",
    "\n",
    "current_A = A.subs(all_subs).evalf()\n",
    "current_B = B.subs(all_subs).evalf()"
   ]
  },
  {
   "cell_type": "code",
   "execution_count": 18,
   "metadata": {},
   "outputs": [
    {
     "data": {
      "text/plain": [
       "Matrix([\n",
       "[0, 0, 5.0,   0,     0],\n",
       "[0, 0,   0, 1.0,     0],\n",
       "[0, 0,   0,   0,   5.0],\n",
       "[0, 0,   0,   0,     0],\n",
       "[0, 0,   0,   0, -10.0]])"
      ]
     },
     "execution_count": 18,
     "metadata": {},
     "output_type": "execute_result"
    }
   ],
   "source": [
    "current_A"
   ]
  },
  {
   "cell_type": "code",
   "execution_count": 19,
   "metadata": {},
   "outputs": [
    {
     "data": {
      "text/plain": [
       "Matrix([\n",
       "[   0,    0],\n",
       "[   0,    0],\n",
       "[   0,    0],\n",
       "[   0, 0.01],\n",
       "[10.0,    0]])"
      ]
     },
     "execution_count": 19,
     "metadata": {},
     "output_type": "execute_result"
    }
   ],
   "source": [
    "current_B"
   ]
  },
  {
   "cell_type": "code",
   "execution_count": 20,
   "metadata": {},
   "outputs": [],
   "source": [
    "# let's step half a second into the future\n",
    "T = 0.5\n",
    "A_d, B_d = discretize_AB(current_A, current_B, T)\n",
    "\n",
    "next_state = A_d @ current_state + B_d @ current_inputs"
   ]
  },
  {
   "cell_type": "code",
   "execution_count": 21,
   "metadata": {},
   "outputs": [
    {
     "data": {
      "text/plain": [
       "array([2.12331551, 2.5125    , 2.00336897, 5.05      , 0.99326205])"
      ]
     },
     "execution_count": 21,
     "metadata": {},
     "output_type": "execute_result"
    }
   ],
   "source": [
    "next_state"
   ]
  },
  {
   "cell_type": "code",
   "execution_count": null,
   "metadata": {},
   "outputs": [],
   "source": []
  }
 ],
 "metadata": {
  "kernelspec": {
   "display_name": "Python 3",
   "language": "python",
   "name": "python3"
  },
  "language_info": {
   "codemirror_mode": {
    "name": "ipython",
    "version": 3
   },
   "file_extension": ".py",
   "mimetype": "text/x-python",
   "name": "python",
   "nbconvert_exporter": "python",
   "pygments_lexer": "ipython3",
   "version": "3.6.5"
  }
 },
 "nbformat": 4,
 "nbformat_minor": 2
}
